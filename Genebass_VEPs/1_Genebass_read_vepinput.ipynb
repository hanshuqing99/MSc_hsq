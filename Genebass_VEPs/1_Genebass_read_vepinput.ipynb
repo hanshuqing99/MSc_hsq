{
 "cells": [
  {
   "cell_type": "code",
   "execution_count": 1,
   "metadata": {},
   "outputs": [],
   "source": [
    "import pandas as pd\n",
    "import numpy as np\n"
   ]
  },
  {
   "cell_type": "code",
   "execution_count": 2,
   "metadata": {},
   "outputs": [],
   "source": [
    "def multiple_replace_vcf(a):\n",
    " \n",
    " b = {\"chr\": \"\",\":\":\" \", \"_\": \" . \",\"/\":\" \"}\n",
    " for x,y in b.items():\n",
    "    a = a.str.replace(x, y)\n",
    " return a\n",
    "\n"
   ]
  },
  {
   "cell_type": "code",
   "execution_count": 17,
   "metadata": {},
   "outputs": [
    {
     "data": {
      "text/plain": [
       "68"
      ]
     },
     "execution_count": 17,
     "metadata": {},
     "output_type": "execute_result"
    }
   ],
   "source": [
    "okay_file = ['ADORA1.csv',\n",
    "'ADORA2A.csv',\n",
    "'ADORA2B.csv',\n",
    "'ADORA3.csv',\n",
    "'ADRA1A.csv',\n",
    "'ADRA1B.csv',\n",
    "'ADRA1D.csv',\n",
    "'ADRA2A.csv',\n",
    "'ADRA2B.csv',\n",
    "'ADRB1.csv',\n",
    "'ADRB2.csv',\n",
    "'ADRB3.csv',\n",
    "'CALCRL.csv',\n",
    "'CASR.csv',\n",
    "'CCR1.csv',\n",
    "'CCR2.csv',\n",
    "'CCR3.csv',\n",
    "'CCR5.csv',\n",
    "'CCR8.csv',\n",
    "'CHRM1.csv',\n",
    "'CHRM3.csv',\n",
    "'CHRM4.csv',\n",
    "'CHRM5.csv',\n",
    "'CNR2.csv',\n",
    "'CRHR1.csv',\n",
    "'CXCR1.csv',\n",
    "'CXCR2.csv',\n",
    "'CXCR3.csv',\n",
    "'CXCR4.csv',\n",
    "'DRD1.csv',\n",
    "'DRD2.csv',\n",
    "'DRD3.csv',\n",
    "'DRD4.csv',\n",
    "'DRD5.csv',\n",
    "'EDNRB.csv',\n",
    "'FSHR.csv',\n",
    "'GCGR.csv',\n",
    "'GHRHR.csv',\n",
    "'GIPR.csv',\n",
    "'GLP1R.csv',\n",
    "'GRM1.csv',\n",
    "'GRM2.csv',\n",
    "'GRM5.csv',\n",
    "'HRH1.csv',\n",
    "'HRH2.csv',\n",
    "'HRH3.csv',\n",
    "'HRH4.csv',\n",
    "'HTR1A.csv',\n",
    "'HTR1B.csv',\n",
    "'HTR1D.csv',\n",
    "'HTR2A.csv',\n",
    "'HTR2B.csv',\n",
    "'HTR2C.csv',\n",
    "'HTR4.csv',\n",
    "'HTR5A.csv',\n",
    "'HTR6.csv',\n",
    "'HTR7.csv',\n",
    "'LHCGR.csv',\n",
    "'MC4R.csv',\n",
    "'P2RY12.csv',\n",
    "'P2RY2.csv',\n",
    "'PTH1R.csv',\n",
    "'PTH2R.csv',\n",
    "'SCTR.csv',\n",
    "'TAS1R3.csv',\n",
    "'TSHR.csv',\n",
    "'VIPR1.csv',\n",
    "'VIPR2.csv']\n",
    "len(okay_file)"
   ]
  },
  {
   "cell_type": "code",
   "execution_count": 22,
   "metadata": {},
   "outputs": [],
   "source": [
    "sep_file =  [\n",
    "    'TAS1R3.csv',\n",
    "    'EDNRB.csv',\n",
    " 'DRD5.csv',\n",
    " 'TMIGD3.csv',\n",
    " 'CXCR2.csv',\n",
    " 'CRHR1.csv',\n",
    " 'CCR3.csv',\n",
    " 'CCR8.csv',\n",
    " 'VIPR2.csv',\n",
    " 'CXCR3.csv',\n",
    " 'CCR1.csv',\n",
    "'GIPR.csv',\n",
    "'VIPR1.csv',\n",
    "'GCGR.csv',\n",
    "'GRM1.csv',\n",
    "'GRM2.csv',\n",
    "'ADRA1D.csv',\n",
    "'ADRA2A.csv',\n",
    "'ADRA2B.csv',\n",
    "'CASR.csv',\n",
    "'DRD4.csv',\n",
    "'HRH2.csv',\n",
    "'HTR2A.csv'\n",
    "]"
   ]
  },
  {
   "cell_type": "code",
   "execution_count": 23,
   "metadata": {},
   "outputs": [
    {
     "name": "stdout",
     "output_type": "stream",
     "text": [
      "processing ADORA1.csv ...\n"
     ]
    },
    {
     "name": "stderr",
     "output_type": "stream",
     "text": [
      "/var/folders/d_/0pdh465d0yj2_tbpjd8dr11c0000gn/T/ipykernel_22811/2969183327.py:22: SettingWithCopyWarning: \n",
      "A value is trying to be set on a copy of a slice from a DataFrame.\n",
      "Try using .loc[row_indexer,col_indexer] = value instead\n",
      "\n",
      "See the caveats in the documentation: https://pandas.pydata.org/pandas-docs/stable/user_guide/indexing.html#returning-a-view-versus-a-copy\n",
      "  gene_gb_f[\"vcf\"] = multiple_replace_vcf(gene_gb_f[\"markerID\"])\n"
     ]
    },
    {
     "name": "stdout",
     "output_type": "stream",
     "text": [
      "processing ADORA2A.csv ...\n"
     ]
    },
    {
     "name": "stderr",
     "output_type": "stream",
     "text": [
      "/Users/joannahench/opt/anaconda3/lib/python3.8/site-packages/IPython/core/interactiveshell.py:3444: DtypeWarning: Columns (7,8,9,11,17,18,19,20,25,26,27,28,29,30,31) have mixed types.Specify dtype option on import or set low_memory=False.\n",
      "  exec(code_obj, self.user_global_ns, self.user_ns)\n"
     ]
    },
    {
     "name": "stdout",
     "output_type": "stream",
     "text": [
      "processing ADORA2B.csv ...\n",
      "processing ADORA3.csv ...\n",
      "processing ADRA1A.csv ...\n",
      "processing ADRA1B.csv ...\n",
      "processing ADRA1D.csv ...\n"
     ]
    },
    {
     "name": "stderr",
     "output_type": "stream",
     "text": [
      "/Users/joannahench/opt/anaconda3/lib/python3.8/site-packages/pandas/util/_decorators.py:311: ParserWarning: Falling back to the 'python' engine because the 'c' engine does not support regex separators (separators > 1 char and different from '\\s+' are interpreted as regex); you can avoid this warning by specifying engine='python'.\n",
      "  return func(*args, **kwargs)\n"
     ]
    },
    {
     "name": "stdout",
     "output_type": "stream",
     "text": [
      "processing ADRA2A.csv ...\n",
      "processing ADRA2B.csv ...\n",
      "processing ADRB1.csv ...\n",
      "processing ADRB2.csv ...\n",
      "processing ADRB3.csv ...\n",
      "processing CALCRL.csv ...\n",
      "processing CASR.csv ...\n",
      "processing CCR1.csv ...\n",
      "processing CCR2.csv ...\n",
      "processing CCR3.csv ...\n",
      "processing CCR5.csv ...\n",
      "processing CCR8.csv ...\n",
      "processing CHRM1.csv ...\n",
      "processing CHRM3.csv ...\n",
      "processing CHRM4.csv ...\n",
      "processing CHRM5.csv ...\n",
      "processing CNR2.csv ...\n",
      "processing CRHR1.csv ...\n",
      "processing CXCR1.csv ...\n",
      "processing CXCR2.csv ...\n",
      "processing CXCR3.csv ...\n",
      "processing CXCR4.csv ...\n",
      "processing DRD1.csv ...\n",
      "processing DRD2.csv ...\n",
      "processing DRD3.csv ...\n",
      "processing DRD4.csv ...\n",
      "processing DRD5.csv ...\n",
      "processing EDNRB.csv ...\n",
      "processing FSHR.csv ...\n"
     ]
    },
    {
     "name": "stderr",
     "output_type": "stream",
     "text": [
      "/Users/joannahench/opt/anaconda3/lib/python3.8/site-packages/IPython/core/interactiveshell.py:3444: DtypeWarning: Columns (7,8,9,11,15,17,18,19,20,23,25,26,27,28,29,30,31) have mixed types.Specify dtype option on import or set low_memory=False.\n",
      "  exec(code_obj, self.user_global_ns, self.user_ns)\n"
     ]
    },
    {
     "name": "stdout",
     "output_type": "stream",
     "text": [
      "processing GCGR.csv ...\n",
      "processing GHRHR.csv ...\n",
      "processing GIPR.csv ...\n",
      "processing GLP1R.csv ...\n",
      "processing GRM1.csv ...\n",
      "processing GRM2.csv ...\n",
      "processing GRM5.csv ...\n",
      "processing HRH1.csv ...\n",
      "processing HRH2.csv ...\n",
      "processing HRH3.csv ...\n"
     ]
    },
    {
     "name": "stderr",
     "output_type": "stream",
     "text": [
      "/Users/joannahench/opt/anaconda3/lib/python3.8/site-packages/IPython/core/interactiveshell.py:3444: DtypeWarning: Columns (7,8,9,11,17,18,19,20,23,25,26,27,28,29,30,31) have mixed types.Specify dtype option on import or set low_memory=False.\n",
      "  exec(code_obj, self.user_global_ns, self.user_ns)\n"
     ]
    },
    {
     "name": "stdout",
     "output_type": "stream",
     "text": [
      "processing HRH4.csv ...\n",
      "processing HTR1A.csv ...\n",
      "processing HTR1B.csv ...\n",
      "processing HTR1D.csv ...\n",
      "processing HTR2A.csv ...\n",
      "processing HTR2B.csv ...\n",
      "processing HTR2C.csv ...\n",
      "processing HTR4.csv ...\n",
      "processing HTR5A.csv ...\n",
      "processing HTR6.csv ...\n",
      "processing HTR7.csv ...\n",
      "processing LHCGR.csv ...\n",
      "processing MC4R.csv ...\n",
      "processing P2RY12.csv ...\n",
      "processing P2RY2.csv ...\n"
     ]
    },
    {
     "name": "stderr",
     "output_type": "stream",
     "text": [
      "/Users/joannahench/opt/anaconda3/lib/python3.8/site-packages/IPython/core/interactiveshell.py:3444: DtypeWarning: Columns (15,16,23) have mixed types.Specify dtype option on import or set low_memory=False.\n",
      "  exec(code_obj, self.user_global_ns, self.user_ns)\n"
     ]
    },
    {
     "name": "stdout",
     "output_type": "stream",
     "text": [
      "processing PTH1R.csv ...\n",
      "processing PTH2R.csv ...\n",
      "processing SCTR.csv ...\n",
      "processing TAS1R3.csv ...\n",
      "processing TSHR.csv ...\n",
      "processing VIPR1.csv ...\n",
      "processing VIPR2.csv ...\n"
     ]
    }
   ],
   "source": [
    "\n",
    "all_data = pd.DataFrame()\n",
    "\n",
    "all_row = 0\n",
    "icd_row = 0\n",
    "# read all genes\n",
    "for file in okay_file:\n",
    "  print(\"processing \"+file+' ...')\n",
    "  if file in sep_file:\n",
    "      if file =='CCR1.csv' or file =='GIPR.csv':\n",
    "        gene_gb = pd.read_csv('Genebass_data'+\"/\"+file,sep=';;')\n",
    "      else:\n",
    "          gene_gb = pd.read_csv('Genebass_data'+\"/\"+file,sep=';;;')\n",
    "  else:\n",
    "    gene_gb = pd.read_csv('Genebass_data'+\"/\"+file)\n",
    "  all_row = all_row + gene_gb.shape[0]\n",
    "  gene_gb_f = gene_gb[gene_gb['trait_type']=='icd10']\n",
    "  # gene_gb_m = gene_gb[gene_gb['category'].str.contains('Mental health',na=False)]\n",
    "\n",
    "  icd_row = icd_row+gene_gb_f.shape[0]\n",
    "  # cate = gene_gb_f['category'].str.rsplit(' > ',1,expand=True)\n",
    "  # gene_gb_f['label'] = cate[1]\n",
    "  gene_gb_f[\"vcf\"] = multiple_replace_vcf(gene_gb_f[\"markerID\"])\n",
    "  all_data = all_data.append(gene_gb_f)\n",
    "\n",
    "  "
   ]
  },
  {
   "cell_type": "code",
   "execution_count": 3,
   "metadata": {},
   "outputs": [
    {
     "data": {
      "text/html": [
       "<div>\n",
       "<style scoped>\n",
       "    .dataframe tbody tr th:only-of-type {\n",
       "        vertical-align: middle;\n",
       "    }\n",
       "\n",
       "    .dataframe tbody tr th {\n",
       "        vertical-align: top;\n",
       "    }\n",
       "\n",
       "    .dataframe thead th {\n",
       "        text-align: right;\n",
       "    }\n",
       "</style>\n",
       "<table border=\"1\" class=\"dataframe\">\n",
       "  <thead>\n",
       "    <tr style=\"text-align: right;\">\n",
       "      <th></th>\n",
       "      <th>Unnamed: 0</th>\n",
       "      <th>locus</th>\n",
       "      <th>alleles</th>\n",
       "      <th>markerID</th>\n",
       "      <th>gene</th>\n",
       "      <th>annotation</th>\n",
       "      <th>call_stats</th>\n",
       "      <th>n_cases</th>\n",
       "      <th>n_controls</th>\n",
       "      <th>heritability</th>\n",
       "      <th>...</th>\n",
       "      <th>coding_description</th>\n",
       "      <th>category</th>\n",
       "      <th>AC</th>\n",
       "      <th>AF</th>\n",
       "      <th>BETA</th>\n",
       "      <th>SE</th>\n",
       "      <th>AF.Cases</th>\n",
       "      <th>AF.Controls</th>\n",
       "      <th>Pvalue</th>\n",
       "      <th>vcf</th>\n",
       "    </tr>\n",
       "  </thead>\n",
       "  <tbody>\n",
       "    <tr>\n",
       "      <th>0</th>\n",
       "      <td>3018020.0</td>\n",
       "      <td>chr1:203128784</td>\n",
       "      <td>[\"G\",\"C\"]</td>\n",
       "      <td>chr1:203128784_G/C</td>\n",
       "      <td>ADORA1</td>\n",
       "      <td>LC</td>\n",
       "      <td>{\"AC\":1,\"AF\":1.2663325237247398E-6,\"AN\":789682...</td>\n",
       "      <td>720</td>\n",
       "      <td>394121.0</td>\n",
       "      <td>0.041393</td>\n",
       "      <td>...</td>\n",
       "      <td>NaN</td>\n",
       "      <td>Chapter II Neoplasms | C15-C26 Malignant neopl...</td>\n",
       "      <td>1</td>\n",
       "      <td>0.000001</td>\n",
       "      <td>-1.0012</td>\n",
       "      <td>31.3760</td>\n",
       "      <td>0.000000</td>\n",
       "      <td>0.000001</td>\n",
       "      <td>0.97454</td>\n",
       "      <td>1 203128784 . G C</td>\n",
       "    </tr>\n",
       "    <tr>\n",
       "      <th>1</th>\n",
       "      <td>3018021.0</td>\n",
       "      <td>chr1:203128784</td>\n",
       "      <td>[\"G\",\"C\"]</td>\n",
       "      <td>chr1:203128784_G/C</td>\n",
       "      <td>ADORA1</td>\n",
       "      <td>LC</td>\n",
       "      <td>{\"AC\":1,\"AF\":1.2663325237247398E-6,\"AN\":789682...</td>\n",
       "      <td>542</td>\n",
       "      <td>394299.0</td>\n",
       "      <td>0.017957</td>\n",
       "      <td>...</td>\n",
       "      <td>NaN</td>\n",
       "      <td>Chapter II Neoplasms | C15-C26 Malignant neopl...</td>\n",
       "      <td>1</td>\n",
       "      <td>0.000001</td>\n",
       "      <td>-1.0008</td>\n",
       "      <td>36.9300</td>\n",
       "      <td>0.000000</td>\n",
       "      <td>0.000001</td>\n",
       "      <td>0.97838</td>\n",
       "      <td>1 203128784 . G C</td>\n",
       "    </tr>\n",
       "    <tr>\n",
       "      <th>2</th>\n",
       "      <td>3018022.0</td>\n",
       "      <td>chr1:203128784</td>\n",
       "      <td>[\"G\",\"C\"]</td>\n",
       "      <td>chr1:203128784_G/C</td>\n",
       "      <td>ADORA1</td>\n",
       "      <td>LC</td>\n",
       "      <td>{\"AC\":1,\"AF\":1.2663325237247398E-6,\"AN\":789682...</td>\n",
       "      <td>180</td>\n",
       "      <td>394661.0</td>\n",
       "      <td>0.135690</td>\n",
       "      <td>...</td>\n",
       "      <td>NaN</td>\n",
       "      <td>Chapter II Neoplasms | C15-C26 Malignant neopl...</td>\n",
       "      <td>1</td>\n",
       "      <td>0.000001</td>\n",
       "      <td>-1.0012</td>\n",
       "      <td>37.3260</td>\n",
       "      <td>0.000000</td>\n",
       "      <td>0.000001</td>\n",
       "      <td>0.97860</td>\n",
       "      <td>1 203128784 . G C</td>\n",
       "    </tr>\n",
       "    <tr>\n",
       "      <th>3</th>\n",
       "      <td>3018023.0</td>\n",
       "      <td>chr1:203128784</td>\n",
       "      <td>[\"G\",\"C\"]</td>\n",
       "      <td>chr1:203128784_G/C</td>\n",
       "      <td>ADORA1</td>\n",
       "      <td>LC</td>\n",
       "      <td>{\"AC\":1,\"AF\":1.2663325237247398E-6,\"AN\":789682...</td>\n",
       "      <td>2901</td>\n",
       "      <td>391940.0</td>\n",
       "      <td>0.044139</td>\n",
       "      <td>...</td>\n",
       "      <td>NaN</td>\n",
       "      <td>Chapter II Neoplasms | C15-C26 Malignant neopl...</td>\n",
       "      <td>1</td>\n",
       "      <td>0.000001</td>\n",
       "      <td>-1.0043</td>\n",
       "      <td>11.9650</td>\n",
       "      <td>0.000000</td>\n",
       "      <td>0.000001</td>\n",
       "      <td>0.93311</td>\n",
       "      <td>1 203128784 . G C</td>\n",
       "    </tr>\n",
       "    <tr>\n",
       "      <th>4</th>\n",
       "      <td>3018024.0</td>\n",
       "      <td>chr1:203128784</td>\n",
       "      <td>[\"G\",\"C\"]</td>\n",
       "      <td>chr1:203128784_G/C</td>\n",
       "      <td>ADORA1</td>\n",
       "      <td>LC</td>\n",
       "      <td>{\"AC\":1,\"AF\":1.2663325237247398E-6,\"AN\":789682...</td>\n",
       "      <td>774</td>\n",
       "      <td>394067.0</td>\n",
       "      <td>0.049357</td>\n",
       "      <td>...</td>\n",
       "      <td>NaN</td>\n",
       "      <td>Chapter II Neoplasms | C15-C26 Malignant neopl...</td>\n",
       "      <td>1</td>\n",
       "      <td>0.000001</td>\n",
       "      <td>-1.0027</td>\n",
       "      <td>21.4210</td>\n",
       "      <td>0.000000</td>\n",
       "      <td>0.000001</td>\n",
       "      <td>0.96267</td>\n",
       "      <td>1 203128784 . G C</td>\n",
       "    </tr>\n",
       "    <tr>\n",
       "      <th>...</th>\n",
       "      <td>...</td>\n",
       "      <td>...</td>\n",
       "      <td>...</td>\n",
       "      <td>...</td>\n",
       "      <td>...</td>\n",
       "      <td>...</td>\n",
       "      <td>...</td>\n",
       "      <td>...</td>\n",
       "      <td>...</td>\n",
       "      <td>...</td>\n",
       "      <td>...</td>\n",
       "      <td>...</td>\n",
       "      <td>...</td>\n",
       "      <td>...</td>\n",
       "      <td>...</td>\n",
       "      <td>...</td>\n",
       "      <td>...</td>\n",
       "      <td>...</td>\n",
       "      <td>...</td>\n",
       "      <td>...</td>\n",
       "      <td>...</td>\n",
       "    </tr>\n",
       "    <tr>\n",
       "      <th>1077333</th>\n",
       "      <td>NaN</td>\n",
       "      <td>chr7:159144768</td>\n",
       "      <td>[\"G\",\"A\"]</td>\n",
       "      <td>chr7:159144768_G/A</td>\n",
       "      <td>VIPR2</td>\n",
       "      <td>missense</td>\n",
       "      <td>{\"AC\":14,\"AF\":1.772874513409263E-5,\"AN\":789678...</td>\n",
       "      <td>4901</td>\n",
       "      <td>389940.0</td>\n",
       "      <td>0.027519</td>\n",
       "      <td>...</td>\n",
       "      <td>NaN</td>\n",
       "      <td>Chapter XXI Factors influencing health status ...</td>\n",
       "      <td>14</td>\n",
       "      <td>0.000018</td>\n",
       "      <td>-1.0160</td>\n",
       "      <td>2.5756</td>\n",
       "      <td>0.000000</td>\n",
       "      <td>0.000018</td>\n",
       "      <td>0.69325</td>\n",
       "      <td>7 159144768 . G A</td>\n",
       "    </tr>\n",
       "    <tr>\n",
       "      <th>1077334</th>\n",
       "      <td>NaN</td>\n",
       "      <td>chr7:159144768</td>\n",
       "      <td>[\"G\",\"A\"]</td>\n",
       "      <td>chr7:159144768_G/A</td>\n",
       "      <td>VIPR2</td>\n",
       "      <td>missense</td>\n",
       "      <td>{\"AC\":14,\"AF\":1.772874513409263E-5,\"AN\":789678...</td>\n",
       "      <td>10199</td>\n",
       "      <td>384642.0</td>\n",
       "      <td>0.009953</td>\n",
       "      <td>...</td>\n",
       "      <td>NaN</td>\n",
       "      <td>Chapter XXI Factors influencing health status ...</td>\n",
       "      <td>14</td>\n",
       "      <td>0.000018</td>\n",
       "      <td>1.8544</td>\n",
       "      <td>1.6976</td>\n",
       "      <td>0.000049</td>\n",
       "      <td>0.000017</td>\n",
       "      <td>0.27466</td>\n",
       "      <td>7 159144768 . G A</td>\n",
       "    </tr>\n",
       "    <tr>\n",
       "      <th>1077335</th>\n",
       "      <td>NaN</td>\n",
       "      <td>chr7:159144768</td>\n",
       "      <td>[\"G\",\"A\"]</td>\n",
       "      <td>chr7:159144768_G/A</td>\n",
       "      <td>VIPR2</td>\n",
       "      <td>missense</td>\n",
       "      <td>{\"AC\":14,\"AF\":1.772874513409263E-5,\"AN\":789678...</td>\n",
       "      <td>5762</td>\n",
       "      <td>389079.0</td>\n",
       "      <td>0.010603</td>\n",
       "      <td>...</td>\n",
       "      <td>NaN</td>\n",
       "      <td>Chapter XXI Factors influencing health status ...</td>\n",
       "      <td>14</td>\n",
       "      <td>0.000018</td>\n",
       "      <td>-1.0163</td>\n",
       "      <td>2.2083</td>\n",
       "      <td>0.000000</td>\n",
       "      <td>0.000018</td>\n",
       "      <td>0.64536</td>\n",
       "      <td>7 159144768 . G A</td>\n",
       "    </tr>\n",
       "    <tr>\n",
       "      <th>1077336</th>\n",
       "      <td>NaN</td>\n",
       "      <td>chr7:159144768</td>\n",
       "      <td>[\"G\",\"A\"]</td>\n",
       "      <td>chr7:159144768_G/A</td>\n",
       "      <td>VIPR2</td>\n",
       "      <td>missense</td>\n",
       "      <td>{\"AC\":14,\"AF\":1.772874513409263E-5,\"AN\":789678...</td>\n",
       "      <td>10132</td>\n",
       "      <td>384709.0</td>\n",
       "      <td>0.015240</td>\n",
       "      <td>...</td>\n",
       "      <td>NaN</td>\n",
       "      <td>Chapter XXI Factors influencing health status ...</td>\n",
       "      <td>14</td>\n",
       "      <td>0.000018</td>\n",
       "      <td>-1.0272</td>\n",
       "      <td>1.6512</td>\n",
       "      <td>0.000000</td>\n",
       "      <td>0.000018</td>\n",
       "      <td>0.53389</td>\n",
       "      <td>7 159144768 . G A</td>\n",
       "    </tr>\n",
       "    <tr>\n",
       "      <th>1077337</th>\n",
       "      <td>NaN</td>\n",
       "      <td>chr7:159144768</td>\n",
       "      <td>[\"G\",\"A\"]</td>\n",
       "      <td>chr7:159144768_G/A</td>\n",
       "      <td>VIPR2</td>\n",
       "      <td>missense</td>\n",
       "      <td>{\"AC\":14,\"AF\":1.772874513409263E-5,\"AN\":789678...</td>\n",
       "      <td>23056</td>\n",
       "      <td>371785.0</td>\n",
       "      <td>0.000000</td>\n",
       "      <td>...</td>\n",
       "      <td>NaN</td>\n",
       "      <td>Chapter XXI Factors influencing health status ...</td>\n",
       "      <td>14</td>\n",
       "      <td>0.000018</td>\n",
       "      <td>-1.0650</td>\n",
       "      <td>1.1942</td>\n",
       "      <td>0.000000</td>\n",
       "      <td>0.000019</td>\n",
       "      <td>0.37246</td>\n",
       "      <td>7 159144768 . G A</td>\n",
       "    </tr>\n",
       "  </tbody>\n",
       "</table>\n",
       "<p>1077338 rows × 33 columns</p>\n",
       "</div>"
      ],
      "text/plain": [
       "         Unnamed: 0           locus    alleles            markerID    gene  \\\n",
       "0         3018020.0  chr1:203128784  [\"G\",\"C\"]  chr1:203128784_G/C  ADORA1   \n",
       "1         3018021.0  chr1:203128784  [\"G\",\"C\"]  chr1:203128784_G/C  ADORA1   \n",
       "2         3018022.0  chr1:203128784  [\"G\",\"C\"]  chr1:203128784_G/C  ADORA1   \n",
       "3         3018023.0  chr1:203128784  [\"G\",\"C\"]  chr1:203128784_G/C  ADORA1   \n",
       "4         3018024.0  chr1:203128784  [\"G\",\"C\"]  chr1:203128784_G/C  ADORA1   \n",
       "...             ...             ...        ...                 ...     ...   \n",
       "1077333         NaN  chr7:159144768  [\"G\",\"A\"]  chr7:159144768_G/A   VIPR2   \n",
       "1077334         NaN  chr7:159144768  [\"G\",\"A\"]  chr7:159144768_G/A   VIPR2   \n",
       "1077335         NaN  chr7:159144768  [\"G\",\"A\"]  chr7:159144768_G/A   VIPR2   \n",
       "1077336         NaN  chr7:159144768  [\"G\",\"A\"]  chr7:159144768_G/A   VIPR2   \n",
       "1077337         NaN  chr7:159144768  [\"G\",\"A\"]  chr7:159144768_G/A   VIPR2   \n",
       "\n",
       "        annotation                                         call_stats  \\\n",
       "0               LC  {\"AC\":1,\"AF\":1.2663325237247398E-6,\"AN\":789682...   \n",
       "1               LC  {\"AC\":1,\"AF\":1.2663325237247398E-6,\"AN\":789682...   \n",
       "2               LC  {\"AC\":1,\"AF\":1.2663325237247398E-6,\"AN\":789682...   \n",
       "3               LC  {\"AC\":1,\"AF\":1.2663325237247398E-6,\"AN\":789682...   \n",
       "4               LC  {\"AC\":1,\"AF\":1.2663325237247398E-6,\"AN\":789682...   \n",
       "...            ...                                                ...   \n",
       "1077333   missense  {\"AC\":14,\"AF\":1.772874513409263E-5,\"AN\":789678...   \n",
       "1077334   missense  {\"AC\":14,\"AF\":1.772874513409263E-5,\"AN\":789678...   \n",
       "1077335   missense  {\"AC\":14,\"AF\":1.772874513409263E-5,\"AN\":789678...   \n",
       "1077336   missense  {\"AC\":14,\"AF\":1.772874513409263E-5,\"AN\":789678...   \n",
       "1077337   missense  {\"AC\":14,\"AF\":1.772874513409263E-5,\"AN\":789678...   \n",
       "\n",
       "         n_cases  n_controls  heritability  ... coding_description  \\\n",
       "0            720    394121.0      0.041393  ...                NaN   \n",
       "1            542    394299.0      0.017957  ...                NaN   \n",
       "2            180    394661.0      0.135690  ...                NaN   \n",
       "3           2901    391940.0      0.044139  ...                NaN   \n",
       "4            774    394067.0      0.049357  ...                NaN   \n",
       "...          ...         ...           ...  ...                ...   \n",
       "1077333     4901    389940.0      0.027519  ...                NaN   \n",
       "1077334    10199    384642.0      0.009953  ...                NaN   \n",
       "1077335     5762    389079.0      0.010603  ...                NaN   \n",
       "1077336    10132    384709.0      0.015240  ...                NaN   \n",
       "1077337    23056    371785.0      0.000000  ...                NaN   \n",
       "\n",
       "                                                  category  AC        AF  \\\n",
       "0        Chapter II Neoplasms | C15-C26 Malignant neopl...   1  0.000001   \n",
       "1        Chapter II Neoplasms | C15-C26 Malignant neopl...   1  0.000001   \n",
       "2        Chapter II Neoplasms | C15-C26 Malignant neopl...   1  0.000001   \n",
       "3        Chapter II Neoplasms | C15-C26 Malignant neopl...   1  0.000001   \n",
       "4        Chapter II Neoplasms | C15-C26 Malignant neopl...   1  0.000001   \n",
       "...                                                    ...  ..       ...   \n",
       "1077333  Chapter XXI Factors influencing health status ...  14  0.000018   \n",
       "1077334  Chapter XXI Factors influencing health status ...  14  0.000018   \n",
       "1077335  Chapter XXI Factors influencing health status ...  14  0.000018   \n",
       "1077336  Chapter XXI Factors influencing health status ...  14  0.000018   \n",
       "1077337  Chapter XXI Factors influencing health status ...  14  0.000018   \n",
       "\n",
       "           BETA       SE  AF.Cases  AF.Controls   Pvalue                vcf  \n",
       "0       -1.0012  31.3760  0.000000     0.000001  0.97454  1 203128784 . G C  \n",
       "1       -1.0008  36.9300  0.000000     0.000001  0.97838  1 203128784 . G C  \n",
       "2       -1.0012  37.3260  0.000000     0.000001  0.97860  1 203128784 . G C  \n",
       "3       -1.0043  11.9650  0.000000     0.000001  0.93311  1 203128784 . G C  \n",
       "4       -1.0027  21.4210  0.000000     0.000001  0.96267  1 203128784 . G C  \n",
       "...         ...      ...       ...          ...      ...                ...  \n",
       "1077333 -1.0160   2.5756  0.000000     0.000018  0.69325  7 159144768 . G A  \n",
       "1077334  1.8544   1.6976  0.000049     0.000017  0.27466  7 159144768 . G A  \n",
       "1077335 -1.0163   2.2083  0.000000     0.000018  0.64536  7 159144768 . G A  \n",
       "1077336 -1.0272   1.6512  0.000000     0.000018  0.53389  7 159144768 . G A  \n",
       "1077337 -1.0650   1.1942  0.000000     0.000019  0.37246  7 159144768 . G A  \n",
       "\n",
       "[1077338 rows x 33 columns]"
      ]
     },
     "execution_count": 3,
     "metadata": {},
     "output_type": "execute_result"
    }
   ],
   "source": [
    "all_data = pd.read_csv('icd10_dataframe_68.csv')\n",
    "all_data"
   ]
  },
  {
   "cell_type": "code",
   "execution_count": 30,
   "metadata": {},
   "outputs": [],
   "source": [
    "# only keep missense variants\n",
    "icd10_LC = all_data[all_data['annotation']=='LC']\n",
    "icd10_missense = all_data[all_data['annotation']=='missense']\n",
    "icd10_pLoF = all_data[all_data['annotation']=='pLoF']\n",
    "icd10_synonymous = all_data[all_data['annotation']=='synonymous']\n"
   ]
  },
  {
   "cell_type": "code",
   "execution_count": 31,
   "metadata": {},
   "outputs": [
    {
     "data": {
      "text/plain": [
       "16208"
      ]
     },
     "execution_count": 31,
     "metadata": {},
     "output_type": "execute_result"
    }
   ],
   "source": [
    "# check how many unique mutants\n",
    "len(np.unique(icd10_missense['vcf'].tolist()))"
   ]
  },
  {
   "cell_type": "code",
   "execution_count": 32,
   "metadata": {},
   "outputs": [],
   "source": [
    "# output vcf format data as the input to Ensembl vep\n",
    "pd.DataFrame(np.unique(icd10_missense['vcf'].tolist())).to_csv('icd10_mis_vcf_68.csv',index=False, header=False)\n",
    "# all_data.to_csv('icd10_dataframe_68.csv',index=False)"
   ]
  },
  {
   "cell_type": "code",
   "execution_count": 33,
   "metadata": {},
   "outputs": [],
   "source": [
    "icd10_LC.to_csv('icd10_LC_68.csv',index=False)\n",
    "icd10_missense.to_csv('icd10_missense_68.csv',index=False)\n",
    "icd10_pLoF.to_csv('icd10_pLoFe_68.csv',index=False)\n",
    "icd10_synonymous.to_csv('icd10_synonymous_68.csv',index=False)"
   ]
  },
  {
   "cell_type": "code",
   "execution_count": 14,
   "metadata": {},
   "outputs": [],
   "source": [
    "icd10_missense = pd.read_csv('icd10_missense_68.csv')\n",
    "\n",
    "\n",
    "\n"
   ]
  },
  {
   "cell_type": "code",
   "execution_count": null,
   "metadata": {},
   "outputs": [],
   "source": []
  },
  {
   "cell_type": "code",
   "execution_count": 5,
   "metadata": {},
   "outputs": [
    {
     "data": {
      "text/plain": [
       "(1.42379726764934e-16, 1.0000000000000002)"
      ]
     },
     "execution_count": 5,
     "metadata": {},
     "output_type": "execute_result"
    }
   ],
   "source": [
    "from sklearn.preprocessing import StandardScaler\n",
    "from sklearn.decomposition import PCA\n",
    "x = icd10_missense.loc[:, ['BETA','Pvalue']].values\n",
    "x = StandardScaler().fit_transform(x)\n",
    "pca_mis = PCA(n_components=2)\n",
    "principalComponents_mis= pca_mis.fit_transform(x)\n",
    "principal_mis_Df = pd.DataFrame(data = principalComponents_mis\n",
    "             , columns = ['principal component 1', 'principal component 2'])\n",
    "print('Explained variation per principal component: {}'.format(pca_mis.explained_variance_ratio_))"
   ]
  },
  {
   "cell_type": "code",
   "execution_count": 6,
   "metadata": {},
   "outputs": [],
   "source": [
    "normalised_mis = pd.DataFrame(x,columns=['norm_BETA','norm_Pvalue'])"
   ]
  },
  {
   "cell_type": "code",
   "execution_count": 8,
   "metadata": {},
   "outputs": [],
   "source": [
    "from sklearn.decomposition import PCA\n",
    "pca_mis = PCA(n_components=2)\n",
    "principalComponents_mis= pca_mis.fit_transform(x)"
   ]
  },
  {
   "cell_type": "code",
   "execution_count": 9,
   "metadata": {},
   "outputs": [],
   "source": [
    "principal_mis_Df = pd.DataFrame(data = principalComponents_mis\n",
    "             , columns = ['principal component 1', 'principal component 2'])"
   ]
  },
  {
   "cell_type": "code",
   "execution_count": null,
   "metadata": {},
   "outputs": [],
   "source": []
  },
  {
   "cell_type": "code",
   "execution_count": 81,
   "metadata": {},
   "outputs": [
    {
     "data": {
      "text/plain": [
       "1    681250\n",
       "Name: class, dtype: int64"
      ]
     },
     "execution_count": 81,
     "metadata": {},
     "output_type": "execute_result"
    }
   ],
   "source": [
    "icd10_missense['class'] = icd10_missense.apply(lambda row: 0 if (row['BETA']< -2 and row['Pvalue']>0.2) else 1, axis=1)\n",
    "principal_mis_Df['class']=icd10_missense['class']\n",
    "icd10_missense['class'].value_counts()"
   ]
  },
  {
   "cell_type": "code",
   "execution_count": 11,
   "metadata": {},
   "outputs": [
    {
     "name": "stdout",
     "output_type": "stream",
     "text": [
      "Explained variation per principal component: [0.87514955 0.12485045]\n"
     ]
    }
   ],
   "source": [
    "print('Explained variation per principal component: {}'.format(pca_mis.explained_variance_ratio_))"
   ]
  },
  {
   "cell_type": "code",
   "execution_count": 74,
   "metadata": {},
   "outputs": [
    {
     "data": {
      "text/plain": [
       "[Text(0.5, 1.0, 'class 0 : BETA< -1 or Pvalue>0.1')]"
      ]
     },
     "execution_count": 74,
     "metadata": {},
     "output_type": "execute_result"
    },
    {
     "data": {
      "image/png": "[encoded data removed]",
      "text/plain": [
       "<Figure size 720x576 with 1 Axes>"
      ]
     },
     "metadata": {
      "needs_background": "light"
     },
     "output_type": "display_data"
    }
   ],
   "source": [
    "import seaborn as sns\n",
    "plt.figure(figsize=(10,8))\n",
    "sns.scatterplot(\n",
    "    x=\"principal component 1\", y=\"principal component 2\",\n",
    "    hue=\"class\",\n",
    "    # palette=sns.color_palette(\"hls\", 10),\n",
    "    data=principal_mis_Df,\n",
    "    legend=\"full\",\n",
    "    alpha=0.3\n",
    ").set(title='class 0 : BETA< -1 or Pvalue>0.1')"
   ]
  },
  {
   "cell_type": "code",
   "execution_count": 15,
   "metadata": {},
   "outputs": [
    {
     "data": {
      "text/plain": [
       "<matplotlib.legend.Legend at 0x7f8e2fb28b20>"
      ]
     },
     "execution_count": 15,
     "metadata": {},
     "output_type": "execute_result"
    },
    {
     "data": {
      "text/plain": [
       "<Figure size 432x288 with 0 Axes>"
      ]
     },
     "metadata": {},
     "output_type": "display_data"
    },
    {
     "data": {
      "image/png": "[encoded data removed]",
      "text/plain": [
       "<Figure size 720x720 with 1 Axes>"
      ]
     },
     "metadata": {
      "needs_background": "light"
     },
     "output_type": "display_data"
    }
   ],
   "source": [
    "import matplotlib.pyplot as plt\n",
    "plt.figure()\n",
    "plt.figure(figsize=(10,10))\n",
    "plt.xticks(fontsize=12)\n",
    "plt.yticks(fontsize=14)\n",
    "plt.xlabel('Principal Component - 1',fontsize=20)\n",
    "plt.ylabel('Principal Component - 2',fontsize=20)\n",
    "plt.title(\"Principal Component Analysis of Breast Cancer Dataset\",fontsize=20)\n",
    "targets = [0, 1]\n",
    "colors = ['r', 'g']\n",
    "for target, color in zip(targets,colors):\n",
    "    indicesToKeep = icd10_missense['class'] == target\n",
    "    plt.scatter(principal_mis_Df.loc[indicesToKeep, 'principal component 1']\n",
    "               , principal_mis_Df.loc[indicesToKeep, 'principal component 2'], c = color, s = 50)\n",
    "\n",
    "plt.legend(targets,prop={'size': 15})"
   ]
  },
  {
   "cell_type": "code",
   "execution_count": null,
   "metadata": {},
   "outputs": [],
   "source": []
  }
 ],
 "metadata": {
  "kernelspec": {
   "display_name": "base",
   "language": "python",
   "name": "python3"
  },
  "language_info": {
   "codemirror_mode": {
    "name": "ipython",
    "version": 3
   },
   "file_extension": ".py",
   "mimetype": "text/x-python",
   "name": "python",
   "nbconvert_exporter": "python",
   "pygments_lexer": "ipython3",
   "version": "3.8.3"
  },
  "orig_nbformat": 4,
  "vscode": {
   "interpreter": {
    "hash": "773d181160c386017ad51b585d282f9f41a012296bacf0d61cb3b8d5443ae20a"
   }
  }
 },
 "nbformat": 4,
 "nbformat_minor": 2
}
